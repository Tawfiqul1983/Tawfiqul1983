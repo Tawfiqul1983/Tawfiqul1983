{
 "cells": [
  {
   "cell_type": "markdown",
   "id": "7239557f",
   "metadata": {},
   "source": [
    "# Data Science Tools and Ecosystem"
   ]
  },
  {
   "cell_type": "markdown",
   "id": "5acdc532",
   "metadata": {},
   "source": [
    "In this notebook, Data Science Tools and Ecosystem are summarized"
   ]
  },
  {
   "cell_type": "markdown",
   "id": "2f798be0",
   "metadata": {},
   "source": [
    "Some of the popular languages that Data Scientists use are:\n",
    "\n",
    "1. Python\n",
    "2. R\n",
    "3. SQL\n",
    "4. Java\n",
    "5. Julia\n",
    "6. Scala"
   ]
  },
  {
   "cell_type": "code",
   "execution_count": null,
   "id": "3e6d9d6e",
   "metadata": {},
   "outputs": [],
   "source": [
    "Some of the commonly used libraries used by Data Scientists include:\n",
    "    1.Pandas\n",
    "    2.Numpy\n",
    "    3.Matplotlib\n",
    "    4.Seaborn\n",
    "    5.SciPY"
   ]
  },
  {
   "cell_type": "markdown",
   "id": "7edb1240",
   "metadata": {},
   "source": [
    "| Data Science Tools |\n",
    "|--------------------|\n",
    "| Jupyter Notebook   |\n",
    "| RStudio            |\n",
    "| VS Code with Python extension |"
   ]
  },
  {
   "cell_type": "markdown",
   "id": "9e07bc32",
   "metadata": {},
   "source": [
    "### Below are a few examples of evaluating arithmetic expressions in Python"
   ]
  },
  {
   "cell_type": "code",
   "execution_count": 1,
   "id": "ea87e82e",
   "metadata": {},
   "outputs": [
    {
     "data": {
      "text/plain": [
       "17"
      ]
     },
     "execution_count": 1,
     "metadata": {},
     "output_type": "execute_result"
    }
   ],
   "source": [
    "#This a simple arithmetic expression to mutiply then add integers#\n",
    "\n",
    "(3*4)+5"
   ]
  },
  {
   "cell_type": "code",
   "execution_count": 4,
   "id": "f72ebfe9",
   "metadata": {},
   "outputs": [
    {
     "data": {
      "text/plain": [
       "3.3333333333333335"
      ]
     },
     "execution_count": 4,
     "metadata": {},
     "output_type": "execute_result"
    }
   ],
   "source": [
    "# This will convert 200 minutes to hours by dividing by 60.\n",
    "minutes = 200\n",
    "hours = minutes / 60\n",
    "hours"
   ]
  },
  {
   "cell_type": "markdown",
   "id": "aec9f46f",
   "metadata": {},
   "source": [
    "**Objectives:\n",
    "\n",
    "List popular languages for Data Science.\n",
    "*Python\n",
    "*R\n",
    "*SQL\n",
    "*Java\n",
    "*Julia\n",
    "*Scala\n",
    "Explore common development environment tools in Data Science.\n",
    "-Jupyter Notebook\n",
    "-RStudio\n",
    "-VS Code with Python extension \n",
    "Convert minutes to hours using Python expressions.\n",
    "Learn how to create tables in Markdown.\n",
    "Understand the basics of working with Jupyter Notebook and Markdown cells."
   ]
  },
  {
   "cell_type": "markdown",
   "id": "835c24f1",
   "metadata": {},
   "source": [
    "## Author\n",
    "MD.TAWFIQUL ISLAM"
   ]
  }
 ],
 "metadata": {
  "kernelspec": {
   "display_name": "Python 3 (ipykernel)",
   "language": "python",
   "name": "python3"
  },
  "language_info": {
   "codemirror_mode": {
    "name": "ipython",
    "version": 3
   },
   "file_extension": ".py",
   "mimetype": "text/x-python",
   "name": "python",
   "nbconvert_exporter": "python",
   "pygments_lexer": "ipython3",
   "version": "3.11.4"
  }
 },
 "nbformat": 4,
 "nbformat_minor": 5
}
https://github.com/Tawfiqul1983/Tawfiqul1983/blob/main/DataScienceEcosystem.ipynb
